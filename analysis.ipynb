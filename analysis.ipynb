{
 "cells": [
  {
   "cell_type": "code",
   "execution_count": 1,
   "id": "314be50f-53c9-4174-8504-30a192139d2c",
   "metadata": {},
   "outputs": [],
   "source": [
    "import pandas as pd\n",
    "import numpy as np\n",
    "import seaborn as sns\n",
    "sns.set(font_scale=1.5)\n",
    "import matplotlib.pyplot as plt\n",
    "from sklearn.linear_model import LogisticRegression\n",
    "from sklearn.model_selection import train_test_split, cross_val_score\n",
    "from sklearn.metrics import roc_curve, RocCurveDisplay, roc_auc_score, precision_recall_curve, PrecisionRecallDisplay, average_precision_score\n",
    "from lightgbm import LGBMClassifier\n",
    "import optuna\n",
    "from dataclasses import dataclass, field"
   ]
  },
  {
   "cell_type": "markdown",
   "id": "5ca8c9c0-70a5-4ae8-bdee-e9a115f4a533",
   "metadata": {},
   "source": [
    "There are 13,068 rows in the raw dataset, but this in itself is not very useful information - we really want to know how many individual neonates are in the data (some appear on multiple rows, corresponding to, for example, multiple blood culture tests). This number can be found using the unique identifier column (`Uid`):"
   ]
  },
  {
   "cell_type": "code",
   "execution_count": 5,
   "id": "3397688b-9f6e-431f-aab5-808a151bdfbb",
   "metadata": {},
   "outputs": [
    {
     "name": "stdout",
     "output_type": "stream",
     "text": [
      "n rows:\n",
      "13068\n",
      "n unique ids:\n",
      "12392\n"
     ]
    }
   ],
   "source": [
    "data_filepath = './data/sepsis_updated_data_Feb21-Sep23.csv'\n",
    "raw_df = pd.read_csv(data_filepath)\n",
    "print('n rows:')\n",
    "print(len(raw_df))\n",
    "print('n unique ids:')\n",
    "print(len(raw_df['Uid'].unique()))"
   ]
  },
  {
   "cell_type": "markdown",
   "id": "d212f22d-8693-47b8-8877-4f39c1902ac7",
   "metadata": {},
   "source": [
    "Check start and end dates in the dataset:"
   ]
  },
  {
   "cell_type": "code",
   "execution_count": 6,
   "id": "61999d63-a56e-4011-a522-600c2fd4d9e4",
   "metadata": {},
   "outputs": [
    {
     "name": "stdout",
     "output_type": "stream",
     "text": [
      "First admission:\n",
      "2021-02-02 12:10:50\n",
      "Last admission:\n",
      "2023-09-30 15:58:36\n"
     ]
    }
   ],
   "source": [
    "raw_df['Datetimeadmission'] = pd.to_datetime(raw_df['Datetimeadmission'])\n",
    "print('First admission:')\n",
    "print(raw_df['Datetimeadmission'].min())\n",
    "print('Last admission:')\n",
    "print(raw_df['Datetimeadmission'].max())"
   ]
  },
  {
   "cell_type": "code",
   "execution_count": null,
   "id": "44babff6-29bd-40bf-8c82-4244e33a43f7",
   "metadata": {},
   "outputs": [],
   "source": []
  }
 ],
 "metadata": {
  "kernelspec": {
   "display_name": "neotree",
   "language": "python",
   "name": "neotree"
  },
  "language_info": {
   "codemirror_mode": {
    "name": "ipython",
    "version": 3
   },
   "file_extension": ".py",
   "mimetype": "text/x-python",
   "name": "python",
   "nbconvert_exporter": "python",
   "pygments_lexer": "ipython3",
   "version": "3.9.16"
  }
 },
 "nbformat": 4,
 "nbformat_minor": 5
}
