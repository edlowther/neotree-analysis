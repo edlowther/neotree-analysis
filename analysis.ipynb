{
 "cells": [
  {
   "cell_type": "code",
   "execution_count": 1,
   "id": "314be50f-53c9-4174-8504-30a192139d2c",
   "metadata": {},
   "outputs": [],
   "source": [
    "import pandas as pd\n",
    "import numpy as np\n",
    "import seaborn as sns\n",
    "sns.set(font_scale=1.5)\n",
    "import matplotlib.pyplot as plt\n",
    "from sklearn.linear_model import LogisticRegression\n",
    "from sklearn.model_selection import train_test_split, cross_val_score\n",
    "from sklearn.metrics import roc_curve, RocCurveDisplay, roc_auc_score, precision_recall_curve, PrecisionRecallDisplay, average_precision_score\n",
    "from lightgbm import LGBMClassifier\n",
    "import optuna\n",
    "from dataclasses import dataclass, field"
   ]
  },
  {
   "cell_type": "markdown",
   "id": "5ca8c9c0-70a5-4ae8-bdee-e9a115f4a533",
   "metadata": {},
   "source": [
    "There are 13,068 rows in the raw dataset, but this in itself is not very useful information - we really want to know how many individual neonates are in the data (some appear on multiple rows, corresponding to, for example, multiple blood culture tests). This number can be found using the unique identifier column (`Uid`):"
   ]
  },
  {
   "cell_type": "code",
   "execution_count": 5,
   "id": "3397688b-9f6e-431f-aab5-808a151bdfbb",
   "metadata": {},
   "outputs": [
    {
     "name": "stdout",
     "output_type": "stream",
     "text": [
      "n rows:\n",
      "13068\n",
      "n unique ids:\n",
      "12392\n"
     ]
    }
   ],
   "source": [
    "data_filepath = './data/sepsis_updated_data_Feb21-Sep23.csv'\n",
    "raw_df = pd.read_csv(data_filepath)\n",
    "print('n rows:')\n",
    "print(len(raw_df))\n",
    "print('n unique ids:')\n",
    "print(len(raw_df['Uid'].unique()))"
   ]
  },
  {
   "cell_type": "markdown",
   "id": "d212f22d-8693-47b8-8877-4f39c1902ac7",
   "metadata": {},
   "source": [
    "Check start and end dates in the dataset:"
   ]
  },
  {
   "cell_type": "code",
   "execution_count": 6,
   "id": "61999d63-a56e-4011-a522-600c2fd4d9e4",
   "metadata": {},
   "outputs": [
    {
     "name": "stdout",
     "output_type": "stream",
     "text": [
      "First admission:\n",
      "2021-02-02 12:10:50\n",
      "Last admission:\n",
      "2023-09-30 15:58:36\n"
     ]
    }
   ],
   "source": [
    "raw_df['Datetimeadmission'] = pd.to_datetime(raw_df['Datetimeadmission'])\n",
    "print('First admission:')\n",
    "print(raw_df['Datetimeadmission'].min())\n",
    "print('Last admission:')\n",
    "print(raw_df['Datetimeadmission'].max())"
   ]
  },
  {
   "cell_type": "markdown",
   "id": "8a108f16-7a6f-4764-a5ed-2705dee6104c",
   "metadata": {},
   "source": [
    "Find median birthweight:"
   ]
  },
  {
   "cell_type": "code",
   "execution_count": 9,
   "id": "5c75cb86-70d9-4eb6-97fc-e6e0cda6e429",
   "metadata": {},
   "outputs": [
    {
     "data": {
      "text/plain": [
       "2700.0"
      ]
     },
     "execution_count": 9,
     "metadata": {},
     "output_type": "execute_result"
    }
   ],
   "source": [
    "raw_df[['Uid', 'Birthweight']].drop_duplicates()['Birthweight'].median()"
   ]
  },
  {
   "cell_type": "markdown",
   "id": "85b963e6-9ede-4666-a8a2-cb92f4e9f5f0",
   "metadata": {},
   "source": [
    "For case fatality rate, we assume that all those who died had the date and time of their death recorded in Neotree:"
   ]
  },
  {
   "cell_type": "code",
   "execution_count": 14,
   "id": "b7d2d235-1ad8-4f82-897d-95a880ca4702",
   "metadata": {},
   "outputs": [
    {
     "name": "stdout",
     "output_type": "stream",
     "text": [
      "n died: 1963\n",
      "case fatality rate: 158\n"
     ]
    }
   ],
   "source": [
    "n_died = len(raw_df.loc[~pd.isna(raw_df['Datetimedeath']), 'Uid'].unique())\n",
    "print('n died:', n_died)\n",
    "n_total = len(raw_df['Uid'].unique())\n",
    "print('case fatality rate:', round(n_died / n_total * 1000))"
   ]
  },
  {
   "cell_type": "markdown",
   "id": "39ba08b3-75cc-42dd-b44f-4bf5bcd2d3c4",
   "metadata": {},
   "source": [
    "How many had blood tests taken, and what were the results?:"
   ]
  },
  {
   "cell_type": "code",
   "execution_count": 22,
   "id": "bc832ee9-4683-4a23-b804-4475bb879d01",
   "metadata": {},
   "outputs": [
    {
     "name": "stdout",
     "output_type": "stream",
     "text": [
      "n cases with test taken: 3033\n",
      "n cases with no non-rejected tests: 502\n"
     ]
    }
   ],
   "source": [
    "print('n cases with test taken:', len(raw_df.loc[~pd.isna(raw_df['Neolab_finalbcresult']), 'Uid'].unique()))\n",
    "rejected_ids = raw_df.loc[raw_df['Neolab_finalbcresult'].isin(['Contaminant', 'Rej']), 'Uid'].unique()\n",
    "non_rejected_ids = raw_df.loc[raw_df['Neolab_finalbcresult'].isin(['Neg', 'NegP', 'Pos', 'PosP']), 'Uid'].unique()\n",
    "print('n cases with no non-rejected tests:', len(np.setdiff1d(rejected_ids, non_rejected_ids)))"
   ]
  },
  {
   "cell_type": "markdown",
   "id": "9cdd22c2-e8f1-4431-8f67-1e09f65327be",
   "metadata": {},
   "source": [
    "Load `datamanager` class to start preparing the raw data for analysis, first looking at the breakdown of the blood test results after removing the rejected rows:"
   ]
  },
  {
   "cell_type": "code",
   "execution_count": 23,
   "id": "61006f74-d7bc-4e9b-a1f7-cf422d81bfb7",
   "metadata": {},
   "outputs": [],
   "source": [
    "from src.datamanager import DataManager\n",
    "\n",
    "data_manager = DataManager(data_filepath)"
   ]
  },
  {
   "cell_type": "code",
   "execution_count": 25,
   "id": "1193ceda-758b-4a66-8c09-4702b00ac036",
   "metadata": {},
   "outputs": [
    {
     "data": {
      "text/plain": [
       "False    2052\n",
       "True      479\n",
       "Name: bc_positive, dtype: int64"
      ]
     },
     "execution_count": 25,
     "metadata": {},
     "output_type": "execute_result"
    }
   ],
   "source": [
    "data_manager.df.loc[~pd.isna(data_manager.df['Neolab_finalbcresult'])].sort_values(\n",
    "    ['Neolab_status', 'bc_positive'],\n",
    "    ascending=[True, False]\n",
    ").groupby('Uid').head(1)['bc_positive'].value_counts()"
   ]
  },
  {
   "cell_type": "code",
   "execution_count": 26,
   "id": "c2284529-0f64-4202-8f51-96a23f02d450",
   "metadata": {},
   "outputs": [
    {
     "data": {
      "text/plain": [
       "2531"
      ]
     },
     "execution_count": 26,
     "metadata": {},
     "output_type": "execute_result"
    }
   ],
   "source": [
    "2052 + 479"
   ]
  },
  {
   "cell_type": "code",
   "execution_count": null,
   "id": "7b279298-0dfd-4ab4-a0a0-19bdd50211a9",
   "metadata": {},
   "outputs": [],
   "source": []
  }
 ],
 "metadata": {
  "kernelspec": {
   "display_name": "neotree",
   "language": "python",
   "name": "neotree"
  },
  "language_info": {
   "codemirror_mode": {
    "name": "ipython",
    "version": 3
   },
   "file_extension": ".py",
   "mimetype": "text/x-python",
   "name": "python",
   "nbconvert_exporter": "python",
   "pygments_lexer": "ipython3",
   "version": "3.9.16"
  }
 },
 "nbformat": 4,
 "nbformat_minor": 5
}
