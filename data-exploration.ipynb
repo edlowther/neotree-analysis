{
 "cells": [
  {
   "cell_type": "code",
   "execution_count": 1,
   "id": "314be50f-53c9-4174-8504-30a192139d2c",
   "metadata": {},
   "outputs": [],
   "source": [
    "import pandas as pd\n",
    "import numpy as np\n",
    "import seaborn as sns\n",
    "sns.set(font_scale=1.5)\n",
    "import matplotlib.pyplot as plt\n",
    "from sklearn.linear_model import LogisticRegression\n",
    "from sklearn.model_selection import train_test_split, cross_val_score\n",
    "from sklearn.metrics import roc_curve, RocCurveDisplay, roc_auc_score, precision_recall_curve, PrecisionRecallDisplay, average_precision_score\n",
    "from lightgbm import LGBMClassifier\n",
    "import optuna\n",
    "from dataclasses import dataclass, field"
   ]
  },
  {
   "cell_type": "code",
   "execution_count": 2,
   "id": "219efa7f-2af6-4b38-b633-c1a515378596",
   "metadata": {},
   "outputs": [],
   "source": [
    "%load_ext autoreload\n",
    "%autoreload 2"
   ]
  },
  {
   "cell_type": "markdown",
   "id": "5ca8c9c0-70a5-4ae8-bdee-e9a115f4a533",
   "metadata": {},
   "source": [
    "There are 13,068 rows in the raw dataset, but this in itself is not very useful information - we really want to know how many individual neonates are in the data (some appear on multiple rows, corresponding to, for example, multiple blood culture tests). This number can be found using the unique identifier column (`Uid`):"
   ]
  },
  {
   "cell_type": "code",
   "execution_count": 3,
   "id": "3397688b-9f6e-431f-aab5-808a151bdfbb",
   "metadata": {},
   "outputs": [
    {
     "name": "stdout",
     "output_type": "stream",
     "text": [
      "n rows:\n",
      "13068\n",
      "n unique ids:\n",
      "12392\n"
     ]
    }
   ],
   "source": [
    "data_filepath = './data/sepsis_updated_data_Feb21-Sep23.csv'\n",
    "raw_df = pd.read_csv(data_filepath)\n",
    "print('n rows:')\n",
    "print(len(raw_df))\n",
    "print('n unique ids:')\n",
    "print(len(raw_df['Uid'].unique()))"
   ]
  },
  {
   "cell_type": "markdown",
   "id": "d212f22d-8693-47b8-8877-4f39c1902ac7",
   "metadata": {},
   "source": [
    "Check start and end dates in the dataset:"
   ]
  },
  {
   "cell_type": "code",
   "execution_count": 4,
   "id": "61999d63-a56e-4011-a522-600c2fd4d9e4",
   "metadata": {},
   "outputs": [
    {
     "name": "stdout",
     "output_type": "stream",
     "text": [
      "First admission:\n",
      "2021-02-02 12:10:50\n",
      "Last admission:\n",
      "2023-09-30 15:58:36\n"
     ]
    }
   ],
   "source": [
    "raw_df['Datetimeadmission'] = pd.to_datetime(raw_df['Datetimeadmission'])\n",
    "print('First admission:')\n",
    "print(raw_df['Datetimeadmission'].min())\n",
    "print('Last admission:')\n",
    "print(raw_df['Datetimeadmission'].max())"
   ]
  },
  {
   "cell_type": "markdown",
   "id": "8a108f16-7a6f-4764-a5ed-2705dee6104c",
   "metadata": {},
   "source": [
    "Find median birthweight:"
   ]
  },
  {
   "cell_type": "code",
   "execution_count": 5,
   "id": "5c75cb86-70d9-4eb6-97fc-e6e0cda6e429",
   "metadata": {},
   "outputs": [
    {
     "data": {
      "text/plain": [
       "2700.0"
      ]
     },
     "execution_count": 5,
     "metadata": {},
     "output_type": "execute_result"
    }
   ],
   "source": [
    "raw_df[['Uid', 'Birthweight']].drop_duplicates()['Birthweight'].median()"
   ]
  },
  {
   "cell_type": "markdown",
   "id": "85b963e6-9ede-4666-a8a2-cb92f4e9f5f0",
   "metadata": {},
   "source": [
    "For case fatality rate, we assume that all those who died had the date and time of their death recorded in Neotree:"
   ]
  },
  {
   "cell_type": "code",
   "execution_count": 6,
   "id": "b7d2d235-1ad8-4f82-897d-95a880ca4702",
   "metadata": {},
   "outputs": [
    {
     "name": "stdout",
     "output_type": "stream",
     "text": [
      "n died: 1963\n",
      "case fatality rate: 158\n"
     ]
    }
   ],
   "source": [
    "n_died = len(raw_df.loc[~pd.isna(raw_df['Datetimedeath']), 'Uid'].unique())\n",
    "print('n died:', n_died)\n",
    "n_total = len(raw_df['Uid'].unique())\n",
    "print('case fatality rate:', round(n_died / n_total * 1000))"
   ]
  },
  {
   "cell_type": "markdown",
   "id": "39ba08b3-75cc-42dd-b44f-4bf5bcd2d3c4",
   "metadata": {},
   "source": [
    "How many had blood tests taken, and what were the results?:"
   ]
  },
  {
   "cell_type": "code",
   "execution_count": 7,
   "id": "bc832ee9-4683-4a23-b804-4475bb879d01",
   "metadata": {},
   "outputs": [
    {
     "name": "stdout",
     "output_type": "stream",
     "text": [
      "n cases with test taken: 3033\n",
      "n cases with no non-rejected tests: 502\n"
     ]
    }
   ],
   "source": [
    "print('n cases with test taken:', len(raw_df.loc[~pd.isna(raw_df['Neolab_finalbcresult']), 'Uid'].unique()))\n",
    "rejected_ids = raw_df.loc[raw_df['Neolab_finalbcresult'].isin(['Contaminant', 'Rej']), 'Uid'].unique()\n",
    "non_rejected_ids = raw_df.loc[raw_df['Neolab_finalbcresult'].isin(['Neg', 'NegP', 'Pos', 'PosP']), 'Uid'].unique()\n",
    "print('n cases with no non-rejected tests:', len(np.setdiff1d(rejected_ids, non_rejected_ids)))"
   ]
  },
  {
   "cell_type": "markdown",
   "id": "9cdd22c2-e8f1-4431-8f67-1e09f65327be",
   "metadata": {},
   "source": [
    "Load `datamanager` class to start preparing the raw data for analysis, first looking at the breakdown of the blood test results after removing the rejected rows:"
   ]
  },
  {
   "cell_type": "code",
   "execution_count": 309,
   "id": "61006f74-d7bc-4e9b-a1f7-cf422d81bfb7",
   "metadata": {},
   "outputs": [],
   "source": [
    "from src.datamanager import DataManager\n",
    "\n",
    "data_manager = DataManager(data_filepath)\n",
    "columns_of_interest = ['Apgar1', 'Apgar5', 'Age', 'Gender',\n",
    "       'Satsair', 'Typebirth', 'Romlength', \n",
    "       'Gestation', 'Birthweight', 'Temperature', 'Skin',\n",
    "       'Dangersigns', 'Signsrd', 'Wob', 'Activity', 'Umbilicus', 'Colour',\n",
    "       'Rr', 'Vomiting', 'Abdomen', 'Fontanelle', 'Hr']"
   ]
  },
  {
   "cell_type": "markdown",
   "id": "b1caafc5-03b4-44f1-815f-4bffdcbff16d",
   "metadata": {},
   "source": [
    "How many cases are included in the analysis?"
   ]
  },
  {
   "cell_type": "code",
   "execution_count": 152,
   "id": "7b279298-0dfd-4ab4-a0a0-19bdd50211a9",
   "metadata": {},
   "outputs": [
    {
     "name": "stdout",
     "output_type": "stream",
     "text": [
      "11890\n"
     ]
    }
   ],
   "source": [
    "n_included = len(data_manager.df['Uid'].unique())\n",
    "print(n_included)"
   ]
  },
  {
   "cell_type": "code",
   "execution_count": 153,
   "id": "cde5ec40-0f10-4527-b686-c68d86d4295e",
   "metadata": {},
   "outputs": [
    {
     "name": "stdout",
     "output_type": "stream",
     "text": [
      "n_with_diagnosis_recorded: 8624\n",
      "n_with_eons_diagnosis: 99\n",
      "pct of diagnoses that were EONS: 1.148\n"
     ]
    }
   ],
   "source": [
    "n_with_diagnosis_recorded = len(data_manager.df.loc[~pd.isna(data_manager.df['Diagdis1']), 'Uid'].unique())\n",
    "n_with_eons_diagnosis = len(data_manager.df.loc[data_manager.df['eons_diagnosis'], 'Uid'].unique())\n",
    "print('n_with_diagnosis_recorded:', n_with_diagnosis_recorded)\n",
    "print('n_with_eons_diagnosis:', n_with_eons_diagnosis)\n",
    "print(f'pct of diagnoses that were EONS: {n_with_eons_diagnosis / n_with_diagnosis_recorded * 100:.3f}')"
   ]
  },
  {
   "cell_type": "code",
   "execution_count": 154,
   "id": "19368b39-c9e5-41ed-ba71-09879b7c3ef7",
   "metadata": {},
   "outputs": [
    {
     "name": "stdout",
     "output_type": "stream",
     "text": [
      "n_with_death_recorded: 1878\n",
      "n_with_death_recorded_as_eons: 47\n",
      "pct of causes of death that were recorded as EONS: 2.503\n"
     ]
    }
   ],
   "source": [
    "n_with_death_recorded = len(data_manager.df.loc[~pd.isna(data_manager.df['Causedeath']), 'Uid'].unique())\n",
    "n_with_death_recorded_as_eons = len(data_manager.df.loc[data_manager.df['eons_cause_of_death'], 'Uid'].unique())\n",
    "print('n_with_death_recorded:', n_with_death_recorded)\n",
    "print('n_with_death_recorded_as_eons:', n_with_death_recorded_as_eons)\n",
    "print(f'pct of causes of death that were recorded as EONS: {n_with_death_recorded_as_eons / n_with_death_recorded * 100:.3f}')"
   ]
  },
  {
   "cell_type": "markdown",
   "id": "c6444978-6db7-47d2-9da2-c8a6b7fe75ae",
   "metadata": {},
   "source": [
    "Finding out how many blood culture tests were positive or negative is a bit trickier than it feels like it should be, because some preliminary results are overturned by final results, in other cases blood culture test results are superceded by clinician diagnosis, etc, and the deduplication code is affected by which target variable we want to deduplicate for. To get the definitive breakdown, we create a new `DataManager` to deduplicate specifically for the `bc_positive` variable:"
   ]
  },
  {
   "cell_type": "code",
   "execution_count": 298,
   "id": "1193ceda-758b-4a66-8c09-4702b00ac036",
   "metadata": {},
   "outputs": [
    {
     "data": {
      "text/plain": [
       "None     9359\n",
       "False    2052\n",
       "True      479\n",
       "Name: bc_positive, dtype: int64"
      ]
     },
     "execution_count": 298,
     "metadata": {},
     "output_type": "execute_result"
    }
   ],
   "source": [
    "bc_result_data_manager = DataManager(data_filepath)\n",
    "bc_result_data_manager.remove_duplicate_predictors(columns_of_interest, 'bc_positive')\n",
    "bc_result_data_manager.df['bc_positive'].value_counts(dropna=False)"
   ]
  },
  {
   "cell_type": "markdown",
   "id": "37458c52-61d5-472c-8af9-a6b991b5291e",
   "metadata": {},
   "source": [
    "We then look at which rows in the main `data_manager` would be excluded due to poor quality age data:"
   ]
  },
  {
   "cell_type": "code",
   "execution_count": 328,
   "id": "7af9d1aa-a52f-4b3d-9b34-c86d821a2f16",
   "metadata": {},
   "outputs": [
    {
     "data": {
      "text/plain": [
       "other                                          11709\n",
       "pos_result_excluded_due_to_bad_age_data          248\n",
       "pos_result_excluded_due_to_missing_age_data        9\n",
       "other route to pos                                 5\n",
       "Name: pos_results_excluded, dtype: int64"
      ]
     },
     "execution_count": 328,
     "metadata": {},
     "output_type": "execute_result"
    }
   ],
   "source": [
    "def find_pos_results_excluded_due_to_age(row):\n",
    "    if not pd.isna(row['Neolab_finalbcresult']) and row['bc_positive']:\n",
    "        if pd.isna(row['age_at_test']):\n",
    "            if row['eons_diagnosis'] or row['eons_cause_of_death']:\n",
    "                return 'other route to pos'\n",
    "            else:\n",
    "                return 'pos_result_excluded_due_to_missing_age_data'\n",
    "        elif row['age_at_test'] < 0 or row['age_at_test'] >= 72:\n",
    "            if row['eons_diagnosis'] or row['eons_cause_of_death']:\n",
    "                return 'other route to pos'\n",
    "            else:\n",
    "                return 'pos_result_excluded_due_to_bad_age_data'\n",
    "    return 'other'\n",
    "data_manager.df['pos_results_excluded'] = data_manager.df.apply(find_pos_results_excluded_due_to_age, axis=1)\n",
    "data_manager.df.drop_duplicates(['Uid', 'pos_results_excluded'])['pos_results_excluded'].value_counts()"
   ]
  },
  {
   "cell_type": "markdown",
   "id": "ddd446db-00fd-4237-93ea-13a48b39a169",
   "metadata": {},
   "source": [
    "Having done this, we deduplicate rows on our main `data_manager` with our composite outcome variable:"
   ]
  },
  {
   "cell_type": "code",
   "execution_count": 329,
   "id": "019b1f26-b61e-420e-bd8a-b937d32faa8f",
   "metadata": {},
   "outputs": [],
   "source": [
    "data_manager.remove_duplicate_predictors(columns_of_interest, 'bc_positive_or_diagnosis_or_cause_of_death')"
   ]
  },
  {
   "cell_type": "markdown",
   "id": "8529dad0-fec8-4d02-bb66-e26074b57294",
   "metadata": {},
   "source": [
    "To count the missing values:"
   ]
  },
  {
   "cell_type": "code",
   "execution_count": 351,
   "id": "a80984a7-92a7-4b94-a2d2-75844513ff2d",
   "metadata": {},
   "outputs": [
    {
     "name": "stdout",
     "output_type": "stream",
     "text": [
      "Bsmmol       | 11639 | 97.889%\n",
      "Apgar10      | 10123 | 85.139%\n",
      "Apgar5       |   851 | 7.157%\n",
      "Apgar1       |   812 | 6.829%\n",
      "Age          |   269 | 2.262%\n",
      "Satsair      |   238 | 2.002%\n",
      "Rr           |   119 | 1.001%\n",
      "Birthweight  |    35 | 0.294%\n",
      "Hr           |    15 | 0.126%\n",
      "Gestation    |     3 | 0.025%\n",
      "Temperature  |     0 | 0.000%\n"
     ]
    }
   ],
   "source": [
    "all_features = ['Apgar1', 'Apgar5', 'Apgar10', 'Age', 'Gender',\n",
    "       'Bsmmol', 'Satsair', 'Typebirth', 'Romlength',\n",
    "       'Gestation', 'Birthweight', 'Temperature', 'Skin',\n",
    "       'Dangersigns', 'Signsrd', 'Wob', 'Activity', 'Umbilicus', 'Colour',\n",
    "       'Rr', 'Vomiting', 'Abdomen', 'Fontanelle', 'Hr']\n",
    "is_float = data_manager.df[all_features].dtypes == 'float64'\n",
    "\n",
    "for index, value in data_manager.df[np.array(all_features)[is_float]].isna().sum().sort_values(ascending=False).items(): \n",
    "       print(f'{index:<12} | {value:>5} | {value / len(data_manager.df):.3%}')"
   ]
  },
  {
   "cell_type": "code",
   "execution_count": 352,
   "id": "aaf22387-e32c-43d1-a466-1595451052ca",
   "metadata": {},
   "outputs": [
    {
     "name": "stdout",
     "output_type": "stream",
     "text": [
      "Wob          |  6418 | 53.978%\n",
      "Romlength    |  1362 | 11.455%\n",
      "Skin         |    83 | 0.698%\n",
      "Abdomen      |    53 | 0.446%\n",
      "Colour       |    31 | 0.261%\n",
      "Vomiting     |    31 | 0.261%\n",
      "Umbilicus    |    29 | 0.244%\n",
      "Typebirth    |     3 | 0.025%\n",
      "Signsrd      |     3 | 0.025%\n",
      "Activity     |     2 | 0.017%\n",
      "Fontanelle   |     2 | 0.017%\n",
      "Dangersigns  |     1 | 0.008%\n",
      "Gender       |     0 | 0.000%\n"
     ]
    }
   ],
   "source": [
    "for index, value in data_manager.df[np.array(all_features)[-is_float]].isna().sum().sort_values(ascending=False).items(): \n",
    "       print(f'{index:<12} | {value:>5} | {value / len(data_manager.df):.3%}')"
   ]
  },
  {
   "cell_type": "markdown",
   "id": "8314f3cb-0de8-45f3-b619-df1a98d106ff",
   "metadata": {},
   "source": [
    "To count values in the composite outcome variable with missing continuous values removed:"
   ]
  },
  {
   "cell_type": "code",
   "execution_count": 356,
   "id": "711a5e78-823f-46bc-a831-5a1aded7a9a4",
   "metadata": {},
   "outputs": [
    {
     "name": "stdout",
     "output_type": "stream",
     "text": [
      "Total number of rows: 10420\n"
     ]
    },
    {
     "data": {
      "text/plain": [
       "False    10103\n",
       "True       317\n",
       "Name: bc_positive_or_diagnosis_or_cause_of_death, dtype: int64"
      ]
     },
     "execution_count": 356,
     "metadata": {},
     "output_type": "execute_result"
    }
   ],
   "source": [
    "X_train, X_test, y_train, y_test = data_manager.get_X_y(columns_of_interest, seed=2024, y_label='bc_positive_or_diagnosis_or_cause_of_death')\n",
    "y = pd.concat([y_train, y_test])\n",
    "print('Total number of rows:', len(y))\n",
    "pd.Series(y).value_counts()"
   ]
  },
  {
   "cell_type": "code",
   "execution_count": null,
   "id": "e03a4c91-5917-4f52-b49b-d28933ddfc85",
   "metadata": {},
   "outputs": [],
   "source": []
  }
 ],
 "metadata": {
  "kernelspec": {
   "display_name": "neotree",
   "language": "python",
   "name": "neotree"
  },
  "language_info": {
   "codemirror_mode": {
    "name": "ipython",
    "version": 3
   },
   "file_extension": ".py",
   "mimetype": "text/x-python",
   "name": "python",
   "nbconvert_exporter": "python",
   "pygments_lexer": "ipython3",
   "version": "3.9.16"
  }
 },
 "nbformat": 4,
 "nbformat_minor": 5
}
