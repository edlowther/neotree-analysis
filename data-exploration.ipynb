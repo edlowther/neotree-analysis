{
 "cells": [
  {
   "cell_type": "code",
   "execution_count": 1,
   "id": "314be50f-53c9-4174-8504-30a192139d2c",
   "metadata": {},
   "outputs": [],
   "source": [
    "import pandas as pd\n",
    "import numpy as np\n",
    "\n",
    "import seaborn as sns\n",
    "\n",
    "from src.tablebuilder import TableBuilder"
   ]
  },
  {
   "cell_type": "code",
   "execution_count": 2,
   "id": "219efa7f-2af6-4b38-b633-c1a515378596",
   "metadata": {},
   "outputs": [],
   "source": [
    "%load_ext autoreload\n",
    "%autoreload 2"
   ]
  },
  {
   "cell_type": "markdown",
   "id": "5ca8c9c0-70a5-4ae8-bdee-e9a115f4a533",
   "metadata": {},
   "source": [
    "There are 21,974 rows in the raw dataset, but this in itself is not very useful information - we really want to know how many individual neonates are in the data (some appear on multiple rows, corresponding to, for example, multiple blood culture tests). In theory we should be able to use the unique identifier column (`Uid`) to obtain this information:"
   ]
  },
  {
   "cell_type": "code",
   "execution_count": 3,
   "id": "3397688b-9f6e-431f-aab5-808a151bdfbb",
   "metadata": {},
   "outputs": [
    {
     "name": "stdout",
     "output_type": "stream",
     "text": [
      "n rows:\n",
      "21974\n",
      "n Uids:\n",
      "18839\n"
     ]
    }
   ],
   "source": [
    "data_filepath = './data/sepsis_updated_data_Feb21-Sep24_v2.csv'\n",
    "raw_df = pd.read_csv(data_filepath)\n",
    "print('n rows:')\n",
    "print(len(raw_df))\n",
    "print('n Uids:')\n",
    "print(len(raw_df['Uid'].unique()))"
   ]
  },
  {
   "cell_type": "markdown",
   "id": "a240a535-1086-4d62-a555-a6a2fcde62aa",
   "metadata": {},
   "source": [
    "However, due to technical problems the `Uid` identifier does not appear to be unique, as evidenced by some `Uid`s referring to babies of different genders and admission dates:"
   ]
  },
  {
   "cell_type": "code",
   "execution_count": 4,
   "id": "59d32391-d772-4cc7-a6dd-733fe326504e",
   "metadata": {},
   "outputs": [
    {
     "data": {
      "text/plain": [
       "220"
      ]
     },
     "execution_count": 4,
     "metadata": {},
     "output_type": "execute_result"
    }
   ],
   "source": [
    "(raw_df.groupby('Uid')['Gender'].unique().apply(len) > 1).sum()"
   ]
  },
  {
   "cell_type": "code",
   "execution_count": 5,
   "id": "f53ff7f3-43b0-40cd-8b7b-034bd5c4b1d3",
   "metadata": {},
   "outputs": [
    {
     "data": {
      "text/plain": [
       "391"
      ]
     },
     "execution_count": 5,
     "metadata": {},
     "output_type": "execute_result"
    }
   ],
   "source": [
    "(raw_df.groupby('Uid')['Datetimeadmission'].unique().apply(len) > 1).sum()"
   ]
  },
  {
   "cell_type": "markdown",
   "id": "50e5f956-3687-4029-a766-32491a534228",
   "metadata": {},
   "source": [
    "Instead we build a separate `id` column, a concatenation of `Uid` and `Datetimeadmission`, which we believe to be remove the problem of duplicated `Uid`s and gives us a total of 19,233 unique cases in the dataset:"
   ]
  },
  {
   "cell_type": "code",
   "execution_count": 6,
   "id": "85fbf2c1-73e9-4a9e-ba73-7bce53b0f75a",
   "metadata": {},
   "outputs": [
    {
     "name": "stdout",
     "output_type": "stream",
     "text": [
      "n unique ids:\n",
      "19233\n"
     ]
    }
   ],
   "source": [
    "raw_df['Datetimeadmission'] = pd.to_datetime(raw_df['Datetimeadmission'])\n",
    "raw_df['id'] = raw_df['Uid'].str.cat(raw_df['Datetimeadmission'].dt.strftime('%Y-%m-%dT%H:%M:%S'), sep='_')\n",
    "print('n unique ids:')\n",
    "print(len(raw_df['id'].unique()))"
   ]
  },
  {
   "cell_type": "code",
   "execution_count": 7,
   "id": "97e181b3-9a49-4b4d-a359-8c3c810f3367",
   "metadata": {},
   "outputs": [
    {
     "data": {
      "text/plain": [
       "0"
      ]
     },
     "execution_count": 7,
     "metadata": {},
     "output_type": "execute_result"
    }
   ],
   "source": [
    "len(raw_df.loc[pd.isna(raw_df['Datetimeadmission']), 'id'].unique())"
   ]
  },
  {
   "cell_type": "markdown",
   "id": "d212f22d-8693-47b8-8877-4f39c1902ac7",
   "metadata": {},
   "source": [
    "Check start and end dates in the dataset:"
   ]
  },
  {
   "cell_type": "code",
   "execution_count": 8,
   "id": "61999d63-a56e-4011-a522-600c2fd4d9e4",
   "metadata": {},
   "outputs": [
    {
     "name": "stdout",
     "output_type": "stream",
     "text": [
      "First admission:\n",
      "2021-02-02 12:10:00\n",
      "Last admission:\n",
      "2024-09-30 19:14:00\n"
     ]
    }
   ],
   "source": [
    "print('First admission:')\n",
    "print(raw_df['Datetimeadmission'].min())\n",
    "print('Last admission:')\n",
    "print(raw_df['Datetimeadmission'].max())"
   ]
  },
  {
   "cell_type": "markdown",
   "id": "8a108f16-7a6f-4764-a5ed-2705dee6104c",
   "metadata": {},
   "source": [
    "Find median birthweight:"
   ]
  },
  {
   "cell_type": "code",
   "execution_count": 9,
   "id": "5c75cb86-70d9-4eb6-97fc-e6e0cda6e429",
   "metadata": {},
   "outputs": [
    {
     "data": {
      "text/plain": [
       "2700.0"
      ]
     },
     "execution_count": 9,
     "metadata": {},
     "output_type": "execute_result"
    }
   ],
   "source": [
    "raw_df[['id', 'Birthweight']].drop_duplicates()['Birthweight'].str.replace(',', '').astype(float).median()"
   ]
  },
  {
   "cell_type": "markdown",
   "id": "85b963e6-9ede-4666-a8a2-cb92f4e9f5f0",
   "metadata": {},
   "source": [
    "For case fatality rate, we assume that all those who died had the date and time of their death recorded in Neotree:"
   ]
  },
  {
   "cell_type": "code",
   "execution_count": 10,
   "id": "b7d2d235-1ad8-4f82-897d-95a880ca4702",
   "metadata": {},
   "outputs": [
    {
     "name": "stdout",
     "output_type": "stream",
     "text": [
      "n died: 3097\n",
      "case fatality rate: 161\n"
     ]
    }
   ],
   "source": [
    "n_died = len(raw_df.loc[~pd.isna(raw_df['Datetimedeath']), 'id'].unique())\n",
    "print('n died:', n_died)\n",
    "n_total = len(raw_df['id'].unique())\n",
    "print('case fatality rate:', round(n_died / n_total * 1000))"
   ]
  },
  {
   "cell_type": "markdown",
   "id": "39ba08b3-75cc-42dd-b44f-4bf5bcd2d3c4",
   "metadata": {},
   "source": [
    "How many had blood tests taken?:"
   ]
  },
  {
   "cell_type": "code",
   "execution_count": 11,
   "id": "5aed04c3-3329-4e8f-9093-3fa6c53f9582",
   "metadata": {},
   "outputs": [
    {
     "data": {
      "text/plain": [
       "Neolab_finalbcresult\n",
       "NaN                                                       15948\n",
       "Neg                                                        2653\n",
       "NegP                                                       1007\n",
       "Contaminant                                                 977\n",
       "Pos                                                         529\n",
       "Negative (FINAL)                                            253\n",
       "PosP                                                        233\n",
       "Negative (PRELIMINARY)                                      207\n",
       "Positive                                                    101\n",
       "Positive (Preliminary awaiting identification and AST)       46\n",
       "Possible Contaminant                                         13\n",
       "Rej                                                           7\n",
       "Name: count, dtype: int64"
      ]
     },
     "execution_count": 11,
     "metadata": {},
     "output_type": "execute_result"
    }
   ],
   "source": [
    "raw_df['Neolab_finalbcresult'].value_counts(dropna=False)"
   ]
  },
  {
   "cell_type": "code",
   "execution_count": 12,
   "id": "bc832ee9-4683-4a23-b804-4475bb879d01",
   "metadata": {},
   "outputs": [
    {
     "name": "stdout",
     "output_type": "stream",
     "text": [
      "n cases with test taken: 4252\n",
      "n cases with at least one valid test result: 3645\n",
      "n cases with no valid test results: 607\n"
     ]
    }
   ],
   "source": [
    "print('n cases with test taken:', len(raw_df.loc[~pd.isna(raw_df['Neolab_finalbcresult']), 'id'].unique()))\n",
    "rejected_values = ['Contaminant', 'Rej', 'Possible Contaminant']\n",
    "rejected_ids = raw_df.loc[raw_df['Neolab_finalbcresult'].isin(rejected_values), 'id'].unique()\n",
    "non_rejected_values = [\n",
    "    'Neg', 'NegP', 'Pos', 'PosP', 'Negative (FINAL)', 'Negative (PRELIMINARY)', 'Positive', \n",
    "    'Positive (Preliminary awaiting identification and AST)'\n",
    "]\n",
    "non_rejected_ids = raw_df.loc[raw_df['Neolab_finalbcresult'].isin(non_rejected_values), 'id'].unique()\n",
    "print('n cases with at least one valid test result:', len(non_rejected_ids))\n",
    "cases_with_no_non_rejected_tests = np.setdiff1d(rejected_ids, non_rejected_ids)\n",
    "print('n cases with no valid test results:', len(cases_with_no_non_rejected_tests))"
   ]
  },
  {
   "cell_type": "code",
   "execution_count": 13,
   "id": "05517205-540f-4498-86f5-585457fafd41",
   "metadata": {},
   "outputs": [
    {
     "data": {
      "text/plain": [
       "4252"
      ]
     },
     "execution_count": 13,
     "metadata": {},
     "output_type": "execute_result"
    }
   ],
   "source": [
    "3645 + 607"
   ]
  },
  {
   "cell_type": "code",
   "execution_count": 14,
   "id": "da428aef-9836-4952-bfad-fd097845e628",
   "metadata": {},
   "outputs": [
    {
     "data": {
      "text/plain": [
       "array(['Pos', 'PosP', 'Neg', 'NegP', 'Positive', 'Negative (PRELIMINARY)',\n",
       "       'Negative (FINAL)',\n",
       "       'Positive (Preliminary awaiting identification and AST)'],\n",
       "      dtype=object)"
      ]
     },
     "execution_count": 14,
     "metadata": {},
     "output_type": "execute_result"
    }
   ],
   "source": [
    "raw_df.loc[raw_df['Neolab_finalbcresult'].isin(non_rejected_values), 'Neolab_finalbcresult'].unique()"
   ]
  },
  {
   "cell_type": "code",
   "execution_count": 15,
   "id": "a3e4b1e3-9dd4-4e1f-9135-5ac8ed3a2b88",
   "metadata": {},
   "outputs": [
    {
     "data": {
      "text/plain": [
       "array([nan, 'Contaminant', 'Possible Contaminant', 'Rej'], dtype=object)"
      ]
     },
     "execution_count": 15,
     "metadata": {},
     "output_type": "execute_result"
    }
   ],
   "source": [
    "raw_df.loc[~raw_df['Neolab_finalbcresult'].isin(non_rejected_values), 'Neolab_finalbcresult'].unique()"
   ]
  },
  {
   "cell_type": "code",
   "execution_count": 16,
   "id": "afc1f604-28a0-4758-83ae-0f3f26abd067",
   "metadata": {},
   "outputs": [
    {
     "data": {
      "text/plain": [
       "387"
      ]
     },
     "execution_count": 16,
     "metadata": {},
     "output_type": "execute_result"
    }
   ],
   "source": [
    "len(raw_df.loc[pd.isna(raw_df['Age']), 'id'].unique())"
   ]
  },
  {
   "cell_type": "code",
   "execution_count": 17,
   "id": "67f71bec-7fe1-4b4d-adb1-79db5b72e89e",
   "metadata": {},
   "outputs": [],
   "source": [
    "raw_df['Age'] = raw_df['Age'].str.replace(',','').astype(float)"
   ]
  },
  {
   "cell_type": "code",
   "execution_count": 18,
   "id": "5bd40173-8f4d-4483-8751-c00b466e1947",
   "metadata": {},
   "outputs": [
    {
     "data": {
      "text/plain": [
       "0"
      ]
     },
     "execution_count": 18,
     "metadata": {},
     "output_type": "execute_result"
    }
   ],
   "source": [
    "(raw_df['Age'] < 0).sum()"
   ]
  },
  {
   "cell_type": "code",
   "execution_count": 19,
   "id": "a125f28b-43d6-4514-bd3f-cb62097564c3",
   "metadata": {},
   "outputs": [
    {
     "data": {
      "text/plain": [
       "556"
      ]
     },
     "execution_count": 19,
     "metadata": {},
     "output_type": "execute_result"
    }
   ],
   "source": [
    "(raw_df['Age'] > 72).sum()"
   ]
  },
  {
   "cell_type": "code",
   "execution_count": 20,
   "id": "ab42631b-50d1-4d36-b6c8-b41bb33e55e3",
   "metadata": {},
   "outputs": [
    {
     "data": {
      "text/plain": [
       "501"
      ]
     },
     "execution_count": 20,
     "metadata": {},
     "output_type": "execute_result"
    }
   ],
   "source": [
    "len(raw_df.loc[raw_df['Age'] > 72, 'id'].unique())"
   ]
  },
  {
   "cell_type": "code",
   "execution_count": 21,
   "id": "3775f89f-55f7-45e7-8f38-1456e5c37e3d",
   "metadata": {},
   "outputs": [
    {
     "data": {
      "text/plain": [
       "888"
      ]
     },
     "execution_count": 21,
     "metadata": {},
     "output_type": "execute_result"
    }
   ],
   "source": [
    "501 + 387"
   ]
  },
  {
   "cell_type": "code",
   "execution_count": 22,
   "id": "5fb413bd-220e-4dba-91c6-ca156b979d48",
   "metadata": {},
   "outputs": [
    {
     "data": {
      "text/plain": [
       "19233"
      ]
     },
     "execution_count": 22,
     "metadata": {},
     "output_type": "execute_result"
    }
   ],
   "source": [
    "18345 + 888"
   ]
  },
  {
   "cell_type": "markdown",
   "id": "9cdd22c2-e8f1-4431-8f67-1e09f65327be",
   "metadata": {},
   "source": [
    "Load `datamanager` class to start preparing the raw data for analysis, first looking at the breakdown of the blood test results after removing the rejected rows:"
   ]
  },
  {
   "cell_type": "code",
   "execution_count": 23,
   "id": "e5572be9-17f9-4f26-8905-97542acfccfc",
   "metadata": {},
   "outputs": [],
   "source": [
    "from src.datamanager import DataManager"
   ]
  },
  {
   "cell_type": "code",
   "execution_count": 121,
   "id": "1fca3b61-0c67-4c2e-9a86-6a03360d68d8",
   "metadata": {},
   "outputs": [
    {
     "name": "stderr",
     "output_type": "stream",
     "text": [
      "/hpchome/ccaeelo@IDHS.UCL.AC.UK/projects/neotree-report/src/datamanager.py:94: UserWarning: Could not infer format, so each element will be parsed individually, falling back to `dateutil`. To ensure parsing is consistent and as-expected, please specify a format.\n",
      "  df = df.assign(Neolab_datebct    = pd.to_datetime(df['Neolab_datebct'],    utc=True),\n",
      "/hpchome/ccaeelo@IDHS.UCL.AC.UK/projects/neotree-report/src/datamanager.py:97: UserWarning: Could not infer format, so each element will be parsed individually, falling back to `dateutil`. To ensure parsing is consistent and as-expected, please specify a format.\n",
      "  Datetimedeath     = pd.to_datetime(df['Datetimedeath'],     utc=True))\n"
     ]
    },
    {
     "name": "stdout",
     "output_type": "stream",
     "text": [
      "18345\n",
      "18345\n"
     ]
    }
   ],
   "source": [
    "columns_of_interest = ['Apgar1', 'Apgar5', 'Age', 'Gender',\n",
    "       'Satsair', 'Typebirth', 'Romlength', \n",
    "       'Gestation', 'Birthweight', 'Temperature', 'Skin',\n",
    "       'Dangersigns', 'Signsrd', 'Wob', 'Activity', 'Umbilicus', 'Colour',\n",
    "       'Rr', 'Vomiting', 'Abdomen', 'Fontanelle', 'Hr']\n",
    "data_manager = DataManager(data_filepath)"
   ]
  },
  {
   "cell_type": "markdown",
   "id": "b1caafc5-03b4-44f1-815f-4bffdcbff16d",
   "metadata": {},
   "source": [
    "How many cases are included in the analysis?"
   ]
  },
  {
   "cell_type": "code",
   "execution_count": 122,
   "id": "7b279298-0dfd-4ab4-a0a0-19bdd50211a9",
   "metadata": {},
   "outputs": [
    {
     "name": "stdout",
     "output_type": "stream",
     "text": [
      "18345\n"
     ]
    }
   ],
   "source": [
    "n_included = len(data_manager.df['id'].unique())\n",
    "print(n_included)"
   ]
  },
  {
   "cell_type": "code",
   "execution_count": 123,
   "id": "5dfc34e1-8210-4668-a4aa-9efa2827dce3",
   "metadata": {},
   "outputs": [
    {
     "data": {
      "text/plain": [
       "bc_positive_or_diagnosis_or_cause_of_death\n",
       "False    17428\n",
       "True       917\n",
       "Name: count, dtype: int64"
      ]
     },
     "execution_count": 123,
     "metadata": {},
     "output_type": "execute_result"
    }
   ],
   "source": [
    "data_manager.df[\n",
    "    ['id', 'bc_positive_or_diagnosis_or_cause_of_death']\n",
    "].drop_duplicates()['bc_positive_or_diagnosis_or_cause_of_death'].value_counts(dropna=False)"
   ]
  },
  {
   "cell_type": "code",
   "execution_count": 124,
   "id": "f401ca97-7946-4147-916d-8b5efe73b365",
   "metadata": {},
   "outputs": [
    {
     "data": {
      "text/plain": [
       "18345"
      ]
     },
     "execution_count": 124,
     "metadata": {},
     "output_type": "execute_result"
    }
   ],
   "source": [
    "917 + 17428"
   ]
  },
  {
   "cell_type": "code",
   "execution_count": 125,
   "id": "cde5ec40-0f10-4527-b686-c68d86d4295e",
   "metadata": {},
   "outputs": [
    {
     "name": "stdout",
     "output_type": "stream",
     "text": [
      "n_with_diagnosis_recorded: 13753\n",
      "n_with_eons_diagnosis: 489\n",
      "pct of diagnoses that were EONS: 3.556\n"
     ]
    }
   ],
   "source": [
    "n_with_diagnosis_recorded = len(data_manager.df.loc[~pd.isna(data_manager.df['Diagdis1']), 'id'].unique())\n",
    "n_with_eons_diagnosis = len(data_manager.df.loc[data_manager.df['eons_diagnosis'], 'id'].unique())\n",
    "print('n_with_diagnosis_recorded:', n_with_diagnosis_recorded)\n",
    "print('n_with_eons_diagnosis:', n_with_eons_diagnosis)\n",
    "print(f'pct of diagnoses that were EONS: {n_with_eons_diagnosis / n_with_diagnosis_recorded * 100:.3f}')"
   ]
  },
  {
   "cell_type": "code",
   "execution_count": 126,
   "id": "19368b39-c9e5-41ed-ba71-09879b7c3ef7",
   "metadata": {},
   "outputs": [
    {
     "name": "stdout",
     "output_type": "stream",
     "text": [
      "n_with_death_recorded: 2926\n",
      "n_with_death_recorded_as_eons: 175\n",
      "pct of causes of death that were recorded as EONS: 5.981\n"
     ]
    }
   ],
   "source": [
    "n_with_death_recorded = len(data_manager.df.loc[~pd.isna(data_manager.df['Causedeath']), 'id'].unique())\n",
    "n_with_death_recorded_as_eons = len(data_manager.df.loc[data_manager.df['eons_cause_of_death'], 'id'].unique())\n",
    "print('n_with_death_recorded:', n_with_death_recorded)\n",
    "print('n_with_death_recorded_as_eons:', n_with_death_recorded_as_eons)\n",
    "print(f'pct of causes of death that were recorded as EONS: {n_with_death_recorded_as_eons / n_with_death_recorded * 100:.3f}')"
   ]
  },
  {
   "cell_type": "markdown",
   "id": "8e3b6cb5-29af-4a8e-bd68-162d17234ed3",
   "metadata": {},
   "source": [
    "In some cases, the results of the blood test are not material to our modelling strategy, as a neonate testing negative with a positive diagnosis would still be counted as positive, because of the diagosis. The same is true for cause of death:"
   ]
  },
  {
   "cell_type": "code",
   "execution_count": 127,
   "id": "d3698c41-765e-4121-8081-2f6540b594c1",
   "metadata": {},
   "outputs": [
    {
     "data": {
      "text/plain": [
       "334"
      ]
     },
     "execution_count": 127,
     "metadata": {},
     "output_type": "execute_result"
    }
   ],
   "source": [
    "len(data_manager.df.loc[(~pd.isna(data_manager.df['Neolab_finalbcresult'])) &\n",
    "                        (data_manager.df['eons_diagnosis'] | data_manager.df['eons_cause_of_death']), 'id'].unique())"
   ]
  },
  {
   "cell_type": "code",
   "execution_count": 128,
   "id": "8792baee-b431-47e1-a783-35fbe63efa0b",
   "metadata": {},
   "outputs": [
    {
     "data": {
      "text/plain": [
       "664"
      ]
     },
     "execution_count": 128,
     "metadata": {},
     "output_type": "execute_result"
    }
   ],
   "source": [
    "len(data_manager.df.loc[(data_manager.df['eons_diagnosis'] | data_manager.df['eons_cause_of_death']), 'id'].unique())"
   ]
  },
  {
   "cell_type": "code",
   "execution_count": 129,
   "id": "7182a350-7699-40e3-8758-59560ca7fb08",
   "metadata": {},
   "outputs": [
    {
     "data": {
      "text/plain": [
       "664"
      ]
     },
     "execution_count": 129,
     "metadata": {},
     "output_type": "execute_result"
    }
   ],
   "source": [
    "489 + 175"
   ]
  },
  {
   "cell_type": "code",
   "execution_count": 130,
   "id": "7bed5a60-8bc2-443f-96aa-e29d983bcdf6",
   "metadata": {},
   "outputs": [
    {
     "data": {
      "text/plain": [
       "0"
      ]
     },
     "execution_count": 130,
     "metadata": {},
     "output_type": "execute_result"
    }
   ],
   "source": [
    "len(data_manager.df.loc[(data_manager.df['eons_diagnosis'] & data_manager.df['eons_cause_of_death']), 'id'].unique())"
   ]
  },
  {
   "cell_type": "markdown",
   "id": "90b07d66-fbf3-4276-8157-cdbef934dcc8",
   "metadata": {},
   "source": [
    "If we remove duplicate rows in the data, we can see how an explanation for the construction of the composite outcome variable breaks down:"
   ]
  },
  {
   "cell_type": "code",
   "execution_count": 131,
   "id": "071caeb2-4d22-4926-9341-fc883317e9dd",
   "metadata": {},
   "outputs": [
    {
     "data": {
      "text/plain": [
       "description\n",
       "no_tests_taken        13938\n",
       "neg_result_found       1605\n",
       "all_tests_excluded     1548\n",
       "diagnosis_or_death      664\n",
       "confusing               337\n",
       "pos_result_found        253\n",
       "Name: count, dtype: int64"
      ]
     },
     "execution_count": 131,
     "metadata": {},
     "output_type": "execute_result"
    }
   ],
   "source": [
    "data_manager.remove_duplicate_predictors(columns_of_interest, 'bc_positive_or_diagnosis_or_cause_of_death')\n",
    "data_manager.df['description'].value_counts()"
   ]
  },
  {
   "cell_type": "code",
   "execution_count": 132,
   "id": "4ab4cd4b-389a-4080-b12b-34f80473b4f7",
   "metadata": {},
   "outputs": [
    {
     "data": {
      "text/plain": [
       "17428"
      ]
     },
     "execution_count": 132,
     "metadata": {},
     "output_type": "execute_result"
    }
   ],
   "source": [
    "13938 + 1548 + 1605 + 337"
   ]
  },
  {
   "cell_type": "code",
   "execution_count": 133,
   "id": "dc1ec307-53e0-4d7d-9122-201146ce1a47",
   "metadata": {},
   "outputs": [
    {
     "data": {
      "text/plain": [
       "917"
      ]
     },
     "execution_count": 133,
     "metadata": {},
     "output_type": "execute_result"
    }
   ],
   "source": [
    "253 + 664"
   ]
  },
  {
   "cell_type": "code",
   "execution_count": 134,
   "id": "022f3907-55b1-41d5-ad04-d0b7528f64e5",
   "metadata": {},
   "outputs": [
    {
     "data": {
      "text/plain": [
       "bc_positive_or_diagnosis_or_cause_of_death\n",
       "False    17428\n",
       "True       917\n",
       "Name: count, dtype: int64"
      ]
     },
     "execution_count": 134,
     "metadata": {},
     "output_type": "execute_result"
    }
   ],
   "source": [
    "data_manager.df['bc_positive_or_diagnosis_or_cause_of_death'].value_counts()"
   ]
  },
  {
   "cell_type": "markdown",
   "id": "8529dad0-fec8-4d02-bb66-e26074b57294",
   "metadata": {},
   "source": [
    "For the analysis of missing values:"
   ]
  },
  {
   "cell_type": "code",
   "execution_count": 135,
   "id": "a80984a7-92a7-4b94-a2d2-75844513ff2d",
   "metadata": {},
   "outputs": [
    {
     "name": "stdout",
     "output_type": "stream",
     "text": [
      "Bsmmol       | 18098 | 98.654%\n",
      "Apgar10      | 16528 | 90.095%\n",
      "Apgar5       |  1227 | 6.688%\n",
      "Apgar1       |  1183 | 6.449%\n",
      "Satsair      |   341 | 1.859%\n",
      "Rr           |   140 | 0.763%\n",
      "Hr           |    93 | 0.507%\n",
      "Birthweight  |    54 | 0.294%\n",
      "Age          |     0 | 0.000%\n",
      "Gestation    |     0 | 0.000%\n",
      "Temperature  |     0 | 0.000%\n"
     ]
    }
   ],
   "source": [
    "all_features = ['Apgar1', 'Apgar5', 'Apgar10', 'Age', 'Gender',\n",
    "       'Bsmmol', 'Satsair', 'Typebirth', 'Romlength',\n",
    "       'Gestation', 'Birthweight', 'Temperature', 'Skin',\n",
    "       'Dangersigns', 'Signsrd', 'Wob', 'Activity', 'Umbilicus', 'Colour',\n",
    "       'Rr', 'Vomiting', 'Abdomen', 'Fontanelle', 'Hr']\n",
    "is_float = data_manager.df[all_features].dtypes == 'float64'\n",
    "\n",
    "for index, value in data_manager.df[np.array(all_features)[is_float]].isna().sum().sort_values(ascending=False).items(): \n",
    "       print(f'{index:<12} | {value:>5} | {value / len(data_manager.df):.3%}')"
   ]
  },
  {
   "cell_type": "code",
   "execution_count": 136,
   "id": "aaf22387-e32c-43d1-a466-1595451052ca",
   "metadata": {},
   "outputs": [
    {
     "name": "stdout",
     "output_type": "stream",
     "text": [
      "Skin         | 18190 | 99.155%\n",
      "Dangersigns  | 13093 | 71.371%\n",
      "Wob          |  9860 | 53.748%\n",
      "Signsrd      |  9303 | 50.711%\n",
      "Romlength    |  1338 | 7.294%\n",
      "Abdomen      |    49 | 0.267%\n",
      "Vomiting     |    27 | 0.147%\n",
      "Colour       |    24 | 0.131%\n",
      "Umbilicus    |    22 | 0.120%\n",
      "Typebirth    |     0 | 0.000%\n",
      "Gender       |     0 | 0.000%\n",
      "Activity     |     0 | 0.000%\n",
      "Fontanelle   |     0 | 0.000%\n"
     ]
    }
   ],
   "source": [
    "for index, value in (data_manager.df[np.array(all_features)[-is_float]] == 'missing').sum().sort_values(ascending=False).items(): \n",
    "       print(f'{index:<12} | {value:>5} | {value / len(data_manager.df):.3%}')"
   ]
  },
  {
   "cell_type": "markdown",
   "id": "8314f3cb-0de8-45f3-b619-df1a98d106ff",
   "metadata": {},
   "source": [
    "To count values in the composite outcome variable with missing continuous values removed:"
   ]
  },
  {
   "cell_type": "code",
   "execution_count": 139,
   "id": "711a5e78-823f-46bc-a831-5a1aded7a9a4",
   "metadata": {},
   "outputs": [
    {
     "name": "stdout",
     "output_type": "stream",
     "text": [
      "Total number of rows: 16595\n"
     ]
    },
    {
     "data": {
      "text/plain": [
       "bc_positive_or_diagnosis_or_cause_of_death\n",
       "False    15790\n",
       "True       805\n",
       "Name: count, dtype: int64"
      ]
     },
     "execution_count": 139,
     "metadata": {},
     "output_type": "execute_result"
    }
   ],
   "source": [
    "X_train, X_test, y_train, y_test = data_manager.get_X_y(columns_of_interest, seed=2024, y_label='bc_positive_or_diagnosis_or_cause_of_death')\n",
    "y = pd.concat([y_train, y_test])\n",
    "print('Total number of rows:', len(y))\n",
    "pd.Series(y).value_counts()"
   ]
  },
  {
   "cell_type": "markdown",
   "id": "c2af4dde-0b87-42e3-ace4-c5525d9b4d70",
   "metadata": {},
   "source": [
    "Finally, we generate the values for the table summarising the input data, using some fairly complex logic hidden in `./src/tablebuilder.py`:"
   ]
  },
  {
   "cell_type": "code",
   "execution_count": 148,
   "id": "e03a4c91-5917-4f52-b49b-d28933ddfc85",
   "metadata": {},
   "outputs": [
    {
     "name": "stdout",
     "output_type": "stream",
     "text": [
      "male\n",
      "female\n",
      "not_sure\n",
      "twin\n",
      "single\n",
      "triplet\n",
      "missing\n",
      "noprom\n",
      "prom\n",
      "missing\n",
      "condition_present\n",
      "missing\n",
      "mild\n",
      "moderate\n",
      "severe\n",
      "missing\n",
      "signs_present\n",
      "missing\n",
      "signs_present\n",
      "alert\n",
      "lethargic\n",
      "coma\n",
      "irritable\n",
      "convulsions\n",
      "Pink\n",
      "Blue\n",
      "White\n",
      "Yell\n",
      "missing\n",
      "{Pink,White}\n",
      "{Yell,White}\n",
      "Norm\n",
      "Abnormal\n",
      "missing\n",
      "No\n",
      "Yes\n",
      "Poss\n",
      "missing\n",
      "Value(data_name='*', display_name='Yes (all feeds/ blood/ green)')\n",
      "Norm\n",
      "Abnormal\n",
      "missing\n",
      "flat\n",
      "bulging\n",
      "sunken\n"
     ]
    },
    {
     "data": {
      "text/html": [
       "<div>\n",
       "<style scoped>\n",
       "    .dataframe tbody tr th:only-of-type {\n",
       "        vertical-align: middle;\n",
       "    }\n",
       "\n",
       "    .dataframe tbody tr th {\n",
       "        vertical-align: top;\n",
       "    }\n",
       "\n",
       "    .dataframe thead th {\n",
       "        text-align: right;\n",
       "    }\n",
       "</style>\n",
       "<table border=\"1\" class=\"dataframe\">\n",
       "  <thead>\n",
       "    <tr style=\"text-align: right;\">\n",
       "      <th></th>\n",
       "      <th>0</th>\n",
       "      <th>1</th>\n",
       "      <th>2</th>\n",
       "      <th>3</th>\n",
       "      <th>4</th>\n",
       "    </tr>\n",
       "  </thead>\n",
       "  <tbody>\n",
       "    <tr>\n",
       "      <th>0</th>\n",
       "      <td>Age (hour); median [Q1-Q3]</td>\n",
       "      <td>-</td>\n",
       "      <td>2.0 [1.0-7.0]</td>\n",
       "      <td>3.0 [1.0-18.0]</td>\n",
       "      <td>2.0 [1.0-6.0]</td>\n",
       "    </tr>\n",
       "    <tr>\n",
       "      <th>1</th>\n",
       "      <td>Gender; n (%)</td>\n",
       "      <td>Female</td>\n",
       "      <td>8222 (44.82)</td>\n",
       "      <td>399 (43.51)</td>\n",
       "      <td>7823 (44.89)</td>\n",
       "    </tr>\n",
       "    <tr>\n",
       "      <th>2</th>\n",
       "      <td></td>\n",
       "      <td>Male</td>\n",
       "      <td>10089 (55.00)</td>\n",
       "      <td>516 (56.27)</td>\n",
       "      <td>9573 (54.93)</td>\n",
       "    </tr>\n",
       "    <tr>\n",
       "      <th>3</th>\n",
       "      <td></td>\n",
       "      <td>Ambiguous</td>\n",
       "      <td>34 (0.19)</td>\n",
       "      <td>2 (0.22)</td>\n",
       "      <td>32 (0.18)</td>\n",
       "    </tr>\n",
       "    <tr>\n",
       "      <th>4</th>\n",
       "      <td>Gestational age; median [Q1-Q3]</td>\n",
       "      <td>-</td>\n",
       "      <td>38 [35-40]</td>\n",
       "      <td>38 [34-39]</td>\n",
       "      <td>38 [35-40]</td>\n",
       "    </tr>\n",
       "    <tr>\n",
       "      <th>5</th>\n",
       "      <td>Birth weight; median [Q1-Q3]</td>\n",
       "      <td>-</td>\n",
       "      <td>2710 [2000-3200]</td>\n",
       "      <td>2700 [1850-3200]</td>\n",
       "      <td>2725 [2000-3200]</td>\n",
       "    </tr>\n",
       "    <tr>\n",
       "      <th>6</th>\n",
       "      <td></td>\n",
       "      <td>Missing</td>\n",
       "      <td>54 (0.29)</td>\n",
       "      <td>2 (3.70)</td>\n",
       "      <td>52 (96.30)</td>\n",
       "    </tr>\n",
       "    <tr>\n",
       "      <th>7</th>\n",
       "      <td>Temperature at admission; median [Q1-Q3]</td>\n",
       "      <td>-</td>\n",
       "      <td>36.8 [36.6-37.0]</td>\n",
       "      <td>36.8 [36.6-37.0]</td>\n",
       "      <td>36.8 [36.6-37.0]</td>\n",
       "    </tr>\n",
       "    <tr>\n",
       "      <th>8</th>\n",
       "      <td>Heart rate; median [Q1-Q3]</td>\n",
       "      <td>-</td>\n",
       "      <td>138.0 [129.0-147.0]</td>\n",
       "      <td>140.0 [129.0-150.0]</td>\n",
       "      <td>138.0 [129.0-146.0]</td>\n",
       "    </tr>\n",
       "    <tr>\n",
       "      <th>9</th>\n",
       "      <td></td>\n",
       "      <td>Missing</td>\n",
       "      <td>93 (0.51)</td>\n",
       "      <td>3 (3.23)</td>\n",
       "      <td>90 (96.77)</td>\n",
       "    </tr>\n",
       "    <tr>\n",
       "      <th>10</th>\n",
       "      <td>Apgar score at 1 minute; median [Q1-Q3]</td>\n",
       "      <td>-</td>\n",
       "      <td>7 [5-8]</td>\n",
       "      <td>7 [5-8]</td>\n",
       "      <td>7 [5-8]</td>\n",
       "    </tr>\n",
       "    <tr>\n",
       "      <th>11</th>\n",
       "      <td></td>\n",
       "      <td>Missing</td>\n",
       "      <td>1183 (6.45)</td>\n",
       "      <td>86 (7.27)</td>\n",
       "      <td>1097 (92.73)</td>\n",
       "    </tr>\n",
       "    <tr>\n",
       "      <th>12</th>\n",
       "      <td>Apgar score at 5 minutes; median [Q1-Q3]</td>\n",
       "      <td>-</td>\n",
       "      <td>8 [7-9]</td>\n",
       "      <td>8 [7-9]</td>\n",
       "      <td>8 [7-9]</td>\n",
       "    </tr>\n",
       "    <tr>\n",
       "      <th>13</th>\n",
       "      <td></td>\n",
       "      <td>Missing</td>\n",
       "      <td>1227 (6.69)</td>\n",
       "      <td>89 (7.25)</td>\n",
       "      <td>1138 (92.75)</td>\n",
       "    </tr>\n",
       "    <tr>\n",
       "      <th>14</th>\n",
       "      <td>Respiratory rate; median [Q1-Q3]</td>\n",
       "      <td>-</td>\n",
       "      <td>38 [29-58]</td>\n",
       "      <td>40 [30-62]</td>\n",
       "      <td>38 [28-58]</td>\n",
       "    </tr>\n",
       "    <tr>\n",
       "      <th>15</th>\n",
       "      <td></td>\n",
       "      <td>Missing</td>\n",
       "      <td>140 (0.76)</td>\n",
       "      <td>4 (2.86)</td>\n",
       "      <td>136 (97.14)</td>\n",
       "    </tr>\n",
       "    <tr>\n",
       "      <th>16</th>\n",
       "      <td>Oxygen saturation in air; median [Q1-Q3]</td>\n",
       "      <td>-</td>\n",
       "      <td>92.0 [87.0-96.0]</td>\n",
       "      <td>90.0 [86.0-95.0]</td>\n",
       "      <td>92.0 [87.0-96.0]</td>\n",
       "    </tr>\n",
       "    <tr>\n",
       "      <th>17</th>\n",
       "      <td></td>\n",
       "      <td>Missing</td>\n",
       "      <td>341 (1.86)</td>\n",
       "      <td>17 (4.99)</td>\n",
       "      <td>324 (95.01)</td>\n",
       "    </tr>\n",
       "    <tr>\n",
       "      <th>18</th>\n",
       "      <td>Type of birth; n (%)</td>\n",
       "      <td>Singleton</td>\n",
       "      <td>16381 (89.29)</td>\n",
       "      <td>840 (91.60)</td>\n",
       "      <td>15541 (89.17)</td>\n",
       "    </tr>\n",
       "    <tr>\n",
       "      <th>19</th>\n",
       "      <td></td>\n",
       "      <td>Twin</td>\n",
       "      <td>1895 (10.33)</td>\n",
       "      <td>72 (7.85)</td>\n",
       "      <td>1823 (10.46)</td>\n",
       "    </tr>\n",
       "    <tr>\n",
       "      <th>20</th>\n",
       "      <td></td>\n",
       "      <td>Triplet</td>\n",
       "      <td>69 (0.38)</td>\n",
       "      <td>5 (0.55)</td>\n",
       "      <td>64 (0.37)</td>\n",
       "    </tr>\n",
       "    <tr>\n",
       "      <th>21</th>\n",
       "      <td>Premature rupture of membrane; n (%)</td>\n",
       "      <td>Yes</td>\n",
       "      <td>1264 (6.89)</td>\n",
       "      <td>151 (16.47)</td>\n",
       "      <td>1113 (6.39)</td>\n",
       "    </tr>\n",
       "    <tr>\n",
       "      <th>22</th>\n",
       "      <td></td>\n",
       "      <td>No rupture</td>\n",
       "      <td>15743 (85.82)</td>\n",
       "      <td>715 (77.97)</td>\n",
       "      <td>15028 (86.23)</td>\n",
       "    </tr>\n",
       "    <tr>\n",
       "      <th>23</th>\n",
       "      <td></td>\n",
       "      <td>Missing</td>\n",
       "      <td>1338 (7.29)</td>\n",
       "      <td>51 (5.56)</td>\n",
       "      <td>1287 (7.38)</td>\n",
       "    </tr>\n",
       "    <tr>\n",
       "      <th>24</th>\n",
       "      <td>Skin condition; n (%)</td>\n",
       "      <td>Condition present</td>\n",
       "      <td>155 (0.84)</td>\n",
       "      <td>8 (0.87)</td>\n",
       "      <td>147 (0.84)</td>\n",
       "    </tr>\n",
       "    <tr>\n",
       "      <th>25</th>\n",
       "      <td></td>\n",
       "      <td>Missing</td>\n",
       "      <td>18190 (99.16)</td>\n",
       "      <td>909 (99.13)</td>\n",
       "      <td>17281 (99.16)</td>\n",
       "    </tr>\n",
       "    <tr>\n",
       "      <th>26</th>\n",
       "      <td>Work of breathing; n (%)</td>\n",
       "      <td>Mild</td>\n",
       "      <td>3543 (19.31)</td>\n",
       "      <td>203 (22.14)</td>\n",
       "      <td>3340 (19.16)</td>\n",
       "    </tr>\n",
       "    <tr>\n",
       "      <th>27</th>\n",
       "      <td></td>\n",
       "      <td>Moderate</td>\n",
       "      <td>4011 (21.86)</td>\n",
       "      <td>253 (27.59)</td>\n",
       "      <td>3758 (21.56)</td>\n",
       "    </tr>\n",
       "    <tr>\n",
       "      <th>28</th>\n",
       "      <td></td>\n",
       "      <td>Severe</td>\n",
       "      <td>931 (5.07)</td>\n",
       "      <td>60 (6.54)</td>\n",
       "      <td>871 (5.00)</td>\n",
       "    </tr>\n",
       "    <tr>\n",
       "      <th>29</th>\n",
       "      <td></td>\n",
       "      <td>Missing</td>\n",
       "      <td>9860 (53.75)</td>\n",
       "      <td>401 (43.73)</td>\n",
       "      <td>9459 (54.27)</td>\n",
       "    </tr>\n",
       "    <tr>\n",
       "      <th>30</th>\n",
       "      <td>Signs of respiratory distress; n (%)</td>\n",
       "      <td>Signs present</td>\n",
       "      <td>9042 (49.29)</td>\n",
       "      <td>537 (58.56)</td>\n",
       "      <td>8505 (48.80)</td>\n",
       "    </tr>\n",
       "    <tr>\n",
       "      <th>31</th>\n",
       "      <td></td>\n",
       "      <td>Missing</td>\n",
       "      <td>9303 (50.71)</td>\n",
       "      <td>380 (41.44)</td>\n",
       "      <td>8923 (51.20)</td>\n",
       "    </tr>\n",
       "    <tr>\n",
       "      <th>32</th>\n",
       "      <td>Danger signs; n (%)</td>\n",
       "      <td>Signs present</td>\n",
       "      <td>5252 (28.63)</td>\n",
       "      <td>332 (36.21)</td>\n",
       "      <td>4920 (28.23)</td>\n",
       "    </tr>\n",
       "    <tr>\n",
       "      <th>33</th>\n",
       "      <td></td>\n",
       "      <td>Missing</td>\n",
       "      <td>13093 (71.37)</td>\n",
       "      <td>585 (63.79)</td>\n",
       "      <td>12508 (71.77)</td>\n",
       "    </tr>\n",
       "    <tr>\n",
       "      <th>34</th>\n",
       "      <td>Alertness; n (%)</td>\n",
       "      <td>Alert</td>\n",
       "      <td>14907 (81.26)</td>\n",
       "      <td>694 (75.68)</td>\n",
       "      <td>14213 (81.55)</td>\n",
       "    </tr>\n",
       "    <tr>\n",
       "      <th>35</th>\n",
       "      <td></td>\n",
       "      <td>Coma</td>\n",
       "      <td>167 (0.91)</td>\n",
       "      <td>2 (0.22)</td>\n",
       "      <td>165 (0.95)</td>\n",
       "    </tr>\n",
       "    <tr>\n",
       "      <th>36</th>\n",
       "      <td></td>\n",
       "      <td>Convulsions</td>\n",
       "      <td>66 (0.36)</td>\n",
       "      <td>8 (0.87)</td>\n",
       "      <td>58 (0.33)</td>\n",
       "    </tr>\n",
       "    <tr>\n",
       "      <th>37</th>\n",
       "      <td></td>\n",
       "      <td>Lethargic</td>\n",
       "      <td>2979 (16.24)</td>\n",
       "      <td>193 (21.05)</td>\n",
       "      <td>2786 (15.99)</td>\n",
       "    </tr>\n",
       "    <tr>\n",
       "      <th>38</th>\n",
       "      <td></td>\n",
       "      <td>Irritable</td>\n",
       "      <td>226 (1.23)</td>\n",
       "      <td>20 (2.18)</td>\n",
       "      <td>206 (1.18)</td>\n",
       "    </tr>\n",
       "    <tr>\n",
       "      <th>39</th>\n",
       "      <td>Colour; n (%)</td>\n",
       "      <td>Pink</td>\n",
       "      <td>17674 (96.34)</td>\n",
       "      <td>877 (95.64)</td>\n",
       "      <td>16797 (96.38)</td>\n",
       "    </tr>\n",
       "    <tr>\n",
       "      <th>40</th>\n",
       "      <td></td>\n",
       "      <td>Blue</td>\n",
       "      <td>481 (2.62)</td>\n",
       "      <td>29 (3.16)</td>\n",
       "      <td>452 (2.59)</td>\n",
       "    </tr>\n",
       "    <tr>\n",
       "      <th>41</th>\n",
       "      <td></td>\n",
       "      <td>Pink/white</td>\n",
       "      <td>1 (0.01)</td>\n",
       "      <td>0 (0.00)</td>\n",
       "      <td>1 (0.01)</td>\n",
       "    </tr>\n",
       "    <tr>\n",
       "      <th>42</th>\n",
       "      <td></td>\n",
       "      <td>White</td>\n",
       "      <td>133 (0.72)</td>\n",
       "      <td>4 (0.44)</td>\n",
       "      <td>129 (0.74)</td>\n",
       "    </tr>\n",
       "    <tr>\n",
       "      <th>43</th>\n",
       "      <td></td>\n",
       "      <td>Yellow</td>\n",
       "      <td>31 (0.17)</td>\n",
       "      <td>6 (0.65)</td>\n",
       "      <td>25 (0.14)</td>\n",
       "    </tr>\n",
       "    <tr>\n",
       "      <th>44</th>\n",
       "      <td></td>\n",
       "      <td>Yellow/white</td>\n",
       "      <td>1 (0.01)</td>\n",
       "      <td>1 (0.11)</td>\n",
       "      <td>0 (0.00)</td>\n",
       "    </tr>\n",
       "    <tr>\n",
       "      <th>45</th>\n",
       "      <td></td>\n",
       "      <td>Missing</td>\n",
       "      <td>24 (0.13)</td>\n",
       "      <td>0 (0.00)</td>\n",
       "      <td>24 (0.14)</td>\n",
       "    </tr>\n",
       "    <tr>\n",
       "      <th>46</th>\n",
       "      <td>Umbilicus; n (%)</td>\n",
       "      <td>Normal</td>\n",
       "      <td>17619 (96.04)</td>\n",
       "      <td>877 (95.64)</td>\n",
       "      <td>16742 (96.06)</td>\n",
       "    </tr>\n",
       "    <tr>\n",
       "      <th>47</th>\n",
       "      <td></td>\n",
       "      <td>Abnormal</td>\n",
       "      <td>726 (3.96)</td>\n",
       "      <td>40 (4.36)</td>\n",
       "      <td>686 (3.94)</td>\n",
       "    </tr>\n",
       "    <tr>\n",
       "      <th>48</th>\n",
       "      <td></td>\n",
       "      <td>Missing</td>\n",
       "      <td>22 (0.12)</td>\n",
       "      <td>0 (0.00)</td>\n",
       "      <td>22 (0.13)</td>\n",
       "    </tr>\n",
       "    <tr>\n",
       "      <th>49</th>\n",
       "      <td>Vomiting; n (%)</td>\n",
       "      <td>Small milky possets after feeds (normal)</td>\n",
       "      <td>79 (0.43)</td>\n",
       "      <td>6 (0.65)</td>\n",
       "      <td>73 (0.42)</td>\n",
       "    </tr>\n",
       "    <tr>\n",
       "      <th>50</th>\n",
       "      <td></td>\n",
       "      <td>Yes (all feeds/ blood/ green)</td>\n",
       "      <td>249 (1.36)</td>\n",
       "      <td>23 (2.51)</td>\n",
       "      <td>226 (1.30)</td>\n",
       "    </tr>\n",
       "    <tr>\n",
       "      <th>51</th>\n",
       "      <td></td>\n",
       "      <td>No</td>\n",
       "      <td>18017 (98.21)</td>\n",
       "      <td>888 (96.84)</td>\n",
       "      <td>17129 (98.28)</td>\n",
       "    </tr>\n",
       "    <tr>\n",
       "      <th>52</th>\n",
       "      <td></td>\n",
       "      <td>Missing</td>\n",
       "      <td>27 (0.15)</td>\n",
       "      <td>0 (0.00)</td>\n",
       "      <td>27 (0.15)</td>\n",
       "    </tr>\n",
       "    <tr>\n",
       "      <th>53</th>\n",
       "      <td>Abdomen check; n (%)</td>\n",
       "      <td>Normal</td>\n",
       "      <td>17713 (96.55)</td>\n",
       "      <td>878 (95.75)</td>\n",
       "      <td>16835 (96.60)</td>\n",
       "    </tr>\n",
       "    <tr>\n",
       "      <th>54</th>\n",
       "      <td></td>\n",
       "      <td>Abnormal</td>\n",
       "      <td>632 (3.45)</td>\n",
       "      <td>39 (4.25)</td>\n",
       "      <td>593 (3.40)</td>\n",
       "    </tr>\n",
       "    <tr>\n",
       "      <th>55</th>\n",
       "      <td></td>\n",
       "      <td>Missing</td>\n",
       "      <td>49 (0.27)</td>\n",
       "      <td>2 (0.22)</td>\n",
       "      <td>47 (0.27)</td>\n",
       "    </tr>\n",
       "    <tr>\n",
       "      <th>56</th>\n",
       "      <td>Fontanelle; n (%)</td>\n",
       "      <td>Flat</td>\n",
       "      <td>18187 (99.14)</td>\n",
       "      <td>908 (99.02)</td>\n",
       "      <td>17279 (99.15)</td>\n",
       "    </tr>\n",
       "    <tr>\n",
       "      <th>57</th>\n",
       "      <td></td>\n",
       "      <td>Bulging</td>\n",
       "      <td>92 (0.50)</td>\n",
       "      <td>3 (0.33)</td>\n",
       "      <td>89 (0.51)</td>\n",
       "    </tr>\n",
       "    <tr>\n",
       "      <th>58</th>\n",
       "      <td></td>\n",
       "      <td>Sunken</td>\n",
       "      <td>66 (0.36)</td>\n",
       "      <td>6 (0.65)</td>\n",
       "      <td>60 (0.34)</td>\n",
       "    </tr>\n",
       "    <tr>\n",
       "      <th>59</th>\n",
       "      <td></td>\n",
       "      <td>Missing</td>\n",
       "      <td>0 (0.00)</td>\n",
       "      <td>0 (0.00)</td>\n",
       "      <td>0 (0.00)</td>\n",
       "    </tr>\n",
       "  </tbody>\n",
       "</table>\n",
       "</div>"
      ],
      "text/plain": [
       "                                           0  \\\n",
       "0                 Age (hour); median [Q1-Q3]   \n",
       "1                              Gender; n (%)   \n",
       "2                                              \n",
       "3                                              \n",
       "4            Gestational age; median [Q1-Q3]   \n",
       "5               Birth weight; median [Q1-Q3]   \n",
       "6                                              \n",
       "7   Temperature at admission; median [Q1-Q3]   \n",
       "8                 Heart rate; median [Q1-Q3]   \n",
       "9                                              \n",
       "10   Apgar score at 1 minute; median [Q1-Q3]   \n",
       "11                                             \n",
       "12  Apgar score at 5 minutes; median [Q1-Q3]   \n",
       "13                                             \n",
       "14          Respiratory rate; median [Q1-Q3]   \n",
       "15                                             \n",
       "16  Oxygen saturation in air; median [Q1-Q3]   \n",
       "17                                             \n",
       "18                      Type of birth; n (%)   \n",
       "19                                             \n",
       "20                                             \n",
       "21      Premature rupture of membrane; n (%)   \n",
       "22                                             \n",
       "23                                             \n",
       "24                     Skin condition; n (%)   \n",
       "25                                             \n",
       "26                  Work of breathing; n (%)   \n",
       "27                                             \n",
       "28                                             \n",
       "29                                             \n",
       "30      Signs of respiratory distress; n (%)   \n",
       "31                                             \n",
       "32                       Danger signs; n (%)   \n",
       "33                                             \n",
       "34                          Alertness; n (%)   \n",
       "35                                             \n",
       "36                                             \n",
       "37                                             \n",
       "38                                             \n",
       "39                             Colour; n (%)   \n",
       "40                                             \n",
       "41                                             \n",
       "42                                             \n",
       "43                                             \n",
       "44                                             \n",
       "45                                             \n",
       "46                          Umbilicus; n (%)   \n",
       "47                                             \n",
       "48                                             \n",
       "49                           Vomiting; n (%)   \n",
       "50                                             \n",
       "51                                             \n",
       "52                                             \n",
       "53                      Abdomen check; n (%)   \n",
       "54                                             \n",
       "55                                             \n",
       "56                         Fontanelle; n (%)   \n",
       "57                                             \n",
       "58                                             \n",
       "59                                             \n",
       "\n",
       "                                           1                    2  \\\n",
       "0                                          -        2.0 [1.0-7.0]   \n",
       "1                                     Female         8222 (44.82)   \n",
       "2                                       Male        10089 (55.00)   \n",
       "3                                  Ambiguous            34 (0.19)   \n",
       "4                                          -           38 [35-40]   \n",
       "5                                          -     2710 [2000-3200]   \n",
       "6                                    Missing            54 (0.29)   \n",
       "7                                          -     36.8 [36.6-37.0]   \n",
       "8                                          -  138.0 [129.0-147.0]   \n",
       "9                                    Missing            93 (0.51)   \n",
       "10                                         -              7 [5-8]   \n",
       "11                                   Missing          1183 (6.45)   \n",
       "12                                         -              8 [7-9]   \n",
       "13                                   Missing          1227 (6.69)   \n",
       "14                                         -           38 [29-58]   \n",
       "15                                   Missing           140 (0.76)   \n",
       "16                                         -     92.0 [87.0-96.0]   \n",
       "17                                   Missing           341 (1.86)   \n",
       "18                                 Singleton        16381 (89.29)   \n",
       "19                                      Twin         1895 (10.33)   \n",
       "20                                   Triplet            69 (0.38)   \n",
       "21                                       Yes          1264 (6.89)   \n",
       "22                                No rupture        15743 (85.82)   \n",
       "23                                   Missing          1338 (7.29)   \n",
       "24                         Condition present           155 (0.84)   \n",
       "25                                   Missing        18190 (99.16)   \n",
       "26                                      Mild         3543 (19.31)   \n",
       "27                                  Moderate         4011 (21.86)   \n",
       "28                                    Severe           931 (5.07)   \n",
       "29                                   Missing         9860 (53.75)   \n",
       "30                             Signs present         9042 (49.29)   \n",
       "31                                   Missing         9303 (50.71)   \n",
       "32                             Signs present         5252 (28.63)   \n",
       "33                                   Missing        13093 (71.37)   \n",
       "34                                     Alert        14907 (81.26)   \n",
       "35                                      Coma           167 (0.91)   \n",
       "36                               Convulsions            66 (0.36)   \n",
       "37                                 Lethargic         2979 (16.24)   \n",
       "38                                 Irritable           226 (1.23)   \n",
       "39                                      Pink        17674 (96.34)   \n",
       "40                                      Blue           481 (2.62)   \n",
       "41                                Pink/white             1 (0.01)   \n",
       "42                                     White           133 (0.72)   \n",
       "43                                    Yellow            31 (0.17)   \n",
       "44                              Yellow/white             1 (0.01)   \n",
       "45                                   Missing            24 (0.13)   \n",
       "46                                    Normal        17619 (96.04)   \n",
       "47                                  Abnormal           726 (3.96)   \n",
       "48                                   Missing            22 (0.12)   \n",
       "49  Small milky possets after feeds (normal)            79 (0.43)   \n",
       "50             Yes (all feeds/ blood/ green)           249 (1.36)   \n",
       "51                                        No        18017 (98.21)   \n",
       "52                                   Missing            27 (0.15)   \n",
       "53                                    Normal        17713 (96.55)   \n",
       "54                                  Abnormal           632 (3.45)   \n",
       "55                                   Missing            49 (0.27)   \n",
       "56                                      Flat        18187 (99.14)   \n",
       "57                                   Bulging            92 (0.50)   \n",
       "58                                    Sunken            66 (0.36)   \n",
       "59                                   Missing             0 (0.00)   \n",
       "\n",
       "                      3                    4  \n",
       "0        3.0 [1.0-18.0]        2.0 [1.0-6.0]  \n",
       "1           399 (43.51)         7823 (44.89)  \n",
       "2           516 (56.27)         9573 (54.93)  \n",
       "3              2 (0.22)            32 (0.18)  \n",
       "4            38 [34-39]           38 [35-40]  \n",
       "5      2700 [1850-3200]     2725 [2000-3200]  \n",
       "6              2 (3.70)           52 (96.30)  \n",
       "7      36.8 [36.6-37.0]     36.8 [36.6-37.0]  \n",
       "8   140.0 [129.0-150.0]  138.0 [129.0-146.0]  \n",
       "9              3 (3.23)           90 (96.77)  \n",
       "10              7 [5-8]              7 [5-8]  \n",
       "11            86 (7.27)         1097 (92.73)  \n",
       "12              8 [7-9]              8 [7-9]  \n",
       "13            89 (7.25)         1138 (92.75)  \n",
       "14           40 [30-62]           38 [28-58]  \n",
       "15             4 (2.86)          136 (97.14)  \n",
       "16     90.0 [86.0-95.0]     92.0 [87.0-96.0]  \n",
       "17            17 (4.99)          324 (95.01)  \n",
       "18          840 (91.60)        15541 (89.17)  \n",
       "19            72 (7.85)         1823 (10.46)  \n",
       "20             5 (0.55)            64 (0.37)  \n",
       "21          151 (16.47)          1113 (6.39)  \n",
       "22          715 (77.97)        15028 (86.23)  \n",
       "23            51 (5.56)          1287 (7.38)  \n",
       "24             8 (0.87)           147 (0.84)  \n",
       "25          909 (99.13)        17281 (99.16)  \n",
       "26          203 (22.14)         3340 (19.16)  \n",
       "27          253 (27.59)         3758 (21.56)  \n",
       "28            60 (6.54)           871 (5.00)  \n",
       "29          401 (43.73)         9459 (54.27)  \n",
       "30          537 (58.56)         8505 (48.80)  \n",
       "31          380 (41.44)         8923 (51.20)  \n",
       "32          332 (36.21)         4920 (28.23)  \n",
       "33          585 (63.79)        12508 (71.77)  \n",
       "34          694 (75.68)        14213 (81.55)  \n",
       "35             2 (0.22)           165 (0.95)  \n",
       "36             8 (0.87)            58 (0.33)  \n",
       "37          193 (21.05)         2786 (15.99)  \n",
       "38            20 (2.18)           206 (1.18)  \n",
       "39          877 (95.64)        16797 (96.38)  \n",
       "40            29 (3.16)           452 (2.59)  \n",
       "41             0 (0.00)             1 (0.01)  \n",
       "42             4 (0.44)           129 (0.74)  \n",
       "43             6 (0.65)            25 (0.14)  \n",
       "44             1 (0.11)             0 (0.00)  \n",
       "45             0 (0.00)            24 (0.14)  \n",
       "46          877 (95.64)        16742 (96.06)  \n",
       "47            40 (4.36)           686 (3.94)  \n",
       "48             0 (0.00)            22 (0.13)  \n",
       "49             6 (0.65)            73 (0.42)  \n",
       "50            23 (2.51)           226 (1.30)  \n",
       "51          888 (96.84)        17129 (98.28)  \n",
       "52             0 (0.00)            27 (0.15)  \n",
       "53          878 (95.75)        16835 (96.60)  \n",
       "54            39 (4.25)           593 (3.40)  \n",
       "55             2 (0.22)            47 (0.27)  \n",
       "56          908 (99.02)        17279 (99.15)  \n",
       "57             3 (0.33)            89 (0.51)  \n",
       "58             6 (0.65)            60 (0.34)  \n",
       "59             0 (0.00)             0 (0.00)  "
      ]
     },
     "execution_count": 148,
     "metadata": {},
     "output_type": "execute_result"
    }
   ],
   "source": [
    "table_builder = TableBuilder()\n",
    "table_df = table_builder.run(data_manager)\n",
    "table_df.to_csv('./output/table_df_20250207_v2.csv', index=False, header=[\n",
    "    'Predictor', 'Levels', 'All cases (n=18,345)', 'Composite outcome positive (n=917)', 'Composite outcome negative (n=17,428)'\n",
    "])\n",
    "table_df"
   ]
  },
  {
   "cell_type": "code",
   "execution_count": null,
   "id": "b6ee5e77-d31d-4a19-9015-a15f472ea616",
   "metadata": {},
   "outputs": [],
   "source": []
  }
 ],
 "metadata": {
  "kernelspec": {
   "display_name": "nt-report",
   "language": "python",
   "name": "nt-report"
  },
  "language_info": {
   "codemirror_mode": {
    "name": "ipython",
    "version": 3
   },
   "file_extension": ".py",
   "mimetype": "text/x-python",
   "name": "python",
   "nbconvert_exporter": "python",
   "pygments_lexer": "ipython3",
   "version": "3.9.19"
  }
 },
 "nbformat": 4,
 "nbformat_minor": 5
}
